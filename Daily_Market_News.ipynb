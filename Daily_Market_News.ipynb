{
  "cells": [
    {
      "cell_type": "markdown",
      "metadata": {
        "id": "view-in-github",
        "colab_type": "text"
      },
      "source": [
        "<a href=\"https://colab.research.google.com/github/DiannitaOlipmimi/intern_BRI/blob/main/Daily_Market_News.ipynb\" target=\"_parent\"><img src=\"https://colab.research.google.com/assets/colab-badge.svg\" alt=\"Open In Colab\"/></a>"
      ]
    },
    {
      "cell_type": "markdown",
      "metadata": {
        "id": "blljkDi0RoxF"
      },
      "source": [
        "### **DAILY MARKET NEWS**"
      ]
    },
    {
      "cell_type": "markdown",
      "metadata": {
        "id": "zpC034pBFk7X"
      },
      "source": [
        "## Pemisah Masse"
      ]
    },
    {
      "cell_type": "code",
      "execution_count": null,
      "metadata": {
        "id": "UnPRCWM7F32_"
      },
      "outputs": [],
      "source": [
        "#date\n",
        "from datetime import datetime\n",
        "now = datetime.now()\n",
        "today = now.strftime(\"%B %d, %Y\")\n",
        "\n",
        "#cek menguat/melemah\n",
        "def melemahmenurun(value_b, value_a):\n",
        "  return \"menguat\" if value_b > value_a else \"melemah\"\n",
        "\n",
        "#cek turun/naik\n",
        "def naikturun(value_a, value_b):\n",
        "  return \"turun\" if value_b > value_a else \"naik\"\n",
        "\n",
        "#cek selisih dan persentase\n",
        "def selisih_persentase(value_a, value_b):\n",
        "  selisih = value_a - value_b\n",
        "  persentase = abs(round((((selisih) / value_b)*100),2))\n",
        "  return {\"selisih\": selisih, \"persentase\": persentase}"
      ]
    },
    {
      "cell_type": "code",
      "execution_count": null,
      "metadata": {
        "colab": {
          "base_uri": "https://localhost:8080/"
        },
        "id": "Z3JE92cUGB_2",
        "outputId": "6d5f37f0-2b1a-4fa9-bcad-4d8973b1b9a4"
      },
      "outputs": [
        {
          "name": "stdout",
          "output_type": "stream",
          "text": [
            "USD IDR pada 2 hari sebelumnya?   14\n",
            "USD IDR pada 1 hari sebelumnya?   13\n"
          ]
        }
      ],
      "source": [
        "#USD IDR\n",
        "USDIDR_b = int(input(\"USD IDR pada 2 hari sebelumnya?   \"))\n",
        "USDIDR_a = int(input(\"USD IDR pada 1 hari sebelumnya?   \"))\n",
        "\n",
        "sp_USDIDR = selisih_persentase(USDIDR_a, USDIDR_b)\n",
        "var_USDIDR = melemahmenurun(USDIDR_b, USDIDR_a)"
      ]
    },
    {
      "cell_type": "code",
      "execution_count": null,
      "metadata": {
        "colab": {
          "base_uri": "https://localhost:8080/"
        },
        "id": "FY3J_0-VGDsP",
        "outputId": "92c19793-3f95-43fa-e13a-c8bf22bdf21d"
      },
      "outputs": [
        {
          "name": "stdout",
          "output_type": "stream",
          "text": [
            "GIDN10YR pada 2 hari sebelumnya?   2.6\n",
            "GIDN10YR pada 1 hari sebelumnya?   2.7\n"
          ]
        }
      ],
      "source": [
        "#SBN\n",
        "GIDN10Y_b = float(input(\"GIDN10YR pada 2 hari sebelumnya?   \"))\n",
        "GIDN10Y_a = float(input(\"GIDN10YR pada 1 hari sebelumnya?   \"))\n",
        "\n",
        "sp_GIDN10Y = selisih_persentase(GIDN10Y_a, GIDN10Y_b)\n",
        "var_GIDN10Y = naikturun(GIDN10Y_a, GIDN10Y_b)"
      ]
    },
    {
      "cell_type": "code",
      "execution_count": null,
      "metadata": {
        "colab": {
          "base_uri": "https://localhost:8080/"
        },
        "id": "MFTsI1hqGFLe",
        "outputId": "d7fdb9c6-7dc7-4a69-9474-ec87d2dd13f8"
      },
      "outputs": [
        {
          "name": "stdout",
          "output_type": "stream",
          "text": [
            "USGG10Y pada 2 hari sebelumnya?   6.3\n",
            "USGG10Y pada 1 hari sebelumnya?   6.4\n"
          ]
        }
      ],
      "source": [
        "#UST\n",
        "USGG10Y_b = float(input(\"USGG10Y pada 2 hari sebelumnya?   \"))\n",
        "USGG10Y_a = float(input(\"USGG10Y pada 1 hari sebelumnya?   \"))\n",
        "\n",
        "sp_USGG10Y = selisih_persentase(USGG10Y_a, USGG10Y_b)\n",
        "var_USGG10Y = naikturun(USGG10Y_a, USGG10Y_b)"
      ]
    },
    {
      "cell_type": "code",
      "execution_count": null,
      "metadata": {
        "colab": {
          "base_uri": "https://localhost:8080/"
        },
        "id": "SniM8RdjGHjW",
        "outputId": "dde5e833-4a9a-4de6-88ea-e58888a53d29"
      },
      "outputs": [
        {
          "name": "stdout",
          "output_type": "stream",
          "text": [
            "INDO5V pada 2 hari sebelumnya?   75.6\n",
            "INDO5V pada 1 hari sebelumnya?   75.7\n"
          ]
        }
      ],
      "source": [
        "#CDS\n",
        "INDO5V_b = float(input(\"INDO5V pada 2 hari sebelumnya?   \"))\n",
        "INDO5V_a = float(input(\"INDO5V pada 1 hari sebelumnya?   \"))\n",
        "\n",
        "sp_INDO5V = selisih_persentase(INDO5V_a, INDO5V_b)\n",
        "var_INDO5V = naikturun(INDO5V_a, INDO5V_b)"
      ]
    },
    {
      "cell_type": "code",
      "execution_count": null,
      "metadata": {
        "colab": {
          "base_uri": "https://localhost:8080/"
        },
        "id": "6IKpcw6AGJTe",
        "outputId": "ac98d9b4-77d2-4c17-a7e4-ec73b35ae86c"
      },
      "outputs": [
        {
          "name": "stdout",
          "output_type": "stream",
          "text": [
            "Kasus Covid pada 2 hari sebelumnya?   2400\n",
            "Kasus Covid pada 1 hari sebelumnya?   2089\n"
          ]
        }
      ],
      "source": [
        "#Covid Cases\n",
        "covid_b = int(input(\"Kasus Covid pada 2 hari sebelumnya?   \"))\n",
        "covid_a = int(input(\"Kasus Covid pada 1 hari sebelumnya?   \"))\n",
        "\n",
        "sp_covid = selisih_persentase(covid_a, covid_b)"
      ]
    },
    {
      "cell_type": "code",
      "execution_count": null,
      "metadata": {
        "colab": {
          "base_uri": "https://localhost:8080/"
        },
        "id": "BKN3T08mBj9K",
        "outputId": "4e919b11-b4d5-4130-d171-f35f3bbc3ad7"
      },
      "outputs": [
        {
          "name": "stdout",
          "output_type": "stream",
          "text": [
            "Daily Market News – April 08, 2022 \n",
            "USD IDR:  14  =>  13 ( menguat 7.14 % )\n",
            "SBN 10 Yr:  2.6  =>  2.7 ( naik 3.85 % )\n",
            "UST 10 Yr:  6.3  =>  6.4 ( naik / 1.59 % )\n",
            "CDS USD:  75.6  =>  75.7 ( naik 0.1 0.13 % )\n",
            "Update Covid Harian:  2400  =>  2089 ( 12.96 % )\n"
          ]
        }
      ],
      "source": [
        "#Tampilkan Semua Hasil\n",
        "print(\"Daily Market News –\", today, \"\\nUSD IDR: \", USDIDR_b , \" => \" , USDIDR_a , \"(\",var_USDIDR, sp_USDIDR['persentase'] , \"%\",\n",
        "      \")\\nSBN 10 Yr: \", GIDN10Y_b , \" => \" , GIDN10Y_a , \"(\",var_GIDN10Y, sp_GIDN10Y['persentase'] , \"%\",\n",
        "      \")\\nUST 10 Yr: \", USGG10Y_b , \" => \" , USGG10Y_a , \"(\",var_USGG10Y,\"/\", sp_USGG10Y['persentase'] , \"%\",\n",
        "      \")\\nCDS USD: \", INDO5V_b , \" => \" , INDO5V_a , \"(\",var_INDO5V, round(abs(sp_INDO5V['selisih']), 4), sp_INDO5V['persentase'] , \"%\",\n",
        "      \")\\nUpdate Covid Harian: \", covid_b, \" => \" , covid_a, \"(\", sp_covid['persentase'] , \"%\", \")\")"
      ]
    },
    {
      "cell_type": "markdown",
      "metadata": {
        "id": "tx0VkV5kFtAH"
      },
      "source": [
        "## Punya Dek.e"
      ]
    },
    {
      "cell_type": "code",
      "execution_count": null,
      "metadata": {
        "colab": {
          "base_uri": "https://localhost:8080/"
        },
        "id": "IGtsV4d-PR-N",
        "outputId": "d251a5fa-1dd4-4275-d222-46c40d660d03"
      },
      "outputs": [
        {
          "name": "stdout",
          "output_type": "stream",
          "text": [
            "USD IDR pada 2 hari sebelumnya?   14988\n",
            "USD IDR pada 1 hari sebelumnya?   14997\n",
            "GIDN10YR pada 2 hari sebelumnya?   7.321\n",
            "GIDN10YR pada 1 hari sebelumnya?   7.268\n",
            "USGG10Y pada 2 hari sebelumnya?   6.217\n",
            "USGG10Y pada 1 hari sebelumnya?   6.214\n",
            "INDO5V pada 2 hari sebelumnya?   2.8054\n",
            "INDO5V pada 1 hari sebelumnya?   2.928\n",
            "kasus covid pada 2 hari sebelumnya?   9\n"
          ]
        }
      ],
      "source": [
        "#date\n",
        "from datetime import datetime\n",
        "\n",
        "now = datetime.now()\n",
        "today = now.strftime(\"%B %d, %Y\")\n",
        "\n",
        "def melemahmenurun(value_b, value_a):\n",
        "  if(value_b > value_a):\n",
        "    value = \"Menguat\"\n",
        "  elif(value_b == value_a):\n",
        "    value = \"Tetap\"\n",
        "  else:\n",
        "    value = \"Melemah\"\n",
        "  return value\n",
        "\n",
        "def naikturun(value_a, value_b):\n",
        "  if(value_b > value_a):\n",
        "    value = \"Turun\"\n",
        "  elif(value_b == value_a):\n",
        "    value = \"Tetap\"\n",
        "  else:\n",
        "    value = \"Naik\"\n",
        "  return value\n",
        "\n",
        "def selisih_persentase(value_a, value_b):\n",
        "  selisih = value_a - value_b\n",
        "  persentase = abs(round((((selisih) / value_b)*100),2))\n",
        "  return {\"selisih\": selisih, \"persentase\": persentase}\n",
        "  \n",
        "#USD IDR\n",
        "USDIDR_b = int(input(\"USD IDR pada 2 hari sebelumnya?   \"))\n",
        "USDIDR_a = int(input(\"USD IDR pada 1 hari sebelumnya?   \"))\n",
        "\n",
        "sp_USDIDR = selisih_persentase(USDIDR_a, USDIDR_b)\n",
        "var_USDIDR = melemahmenurun(USDIDR_b, USDIDR_a)\n",
        "\n",
        "#SBN\n",
        "GIDN10Y_b = float(input(\"GIDN10YR pada 2 hari sebelumnya?   \"))\n",
        "GIDN10Y_a = float(input(\"GIDN10YR pada 1 hari sebelumnya?   \"))\n",
        "\n",
        "sp_GIDN10Y = selisih_persentase(GIDN10Y_a, GIDN10Y_b)\n",
        "var_GIDN10Y = naikturun(GIDN10Y_a, GIDN10Y_b)\n",
        "\n",
        "#UST\n",
        "USGG10Y_b = float(input(\"USGG10Y pada 2 hari sebelumnya?   \"))\n",
        "USGG10Y_a = float(input(\"USGG10Y pada 1 hari sebelumnya?   \"))\n",
        "\n",
        "sp_USGG10Y = selisih_persentase(USGG10Y_a, USGG10Y_b)\n",
        "var_USGG10Y = naikturun(USGG10Y_a, USGG10Y_b)\n",
        "\n",
        "#CDS\n",
        "INDO5V_b = float(input(\"INDO5V pada 2 hari sebelumnya?   \"))\n",
        "INDO5V_a = float(input(\"INDO5V pada 1 hari sebelumnya?   \"))\n",
        "\n",
        "sp_INDO5V = selisih_persentase(INDO5V_a, INDO5V_b)\n",
        "var_INDO5V = naikturun(INDO5V_a, INDO5V_b)\n",
        "\n",
        "#Covid Cases4\n",
        "covid_b = float(input(\"kasus covid pada 2 hari sebelumnya?   \"))\n",
        "covid_a = float(input(\"kasus covid pada 1 hari sebelumnya?   \"))\n",
        "\n",
        "sp_covid = selisih_persentase(covid_a, covid_b)\n",
        "var_covid = naikturun(covid_a, covid_b)\n",
        "\n",
        "print(\"\\nDaily Market News –\", today, \"\\nUSD IDR: \", USDIDR_b , \" => \" , USDIDR_a , \"(\",var_USDIDR, sp_USDIDR['persentase'] , \"%\",\n",
        "      \")\\nSBN 10 Yr: \", GIDN10Y_b , \" => \" , GIDN10Y_a , \"(\",var_GIDN10Y, sp_GIDN10Y['persentase'] , \"%\",\n",
        "      \")\\nUST 10 Yr: \", USGG10Y_b , \" => \" , USGG10Y_a , \"(\",var_USGG10Y,\"/\", sp_USGG10Y['persentase'] , \"%\",\n",
        "      \")\\nCDS USD: \", INDO5V_b , \" => \" , INDO5V_a , \"(\",var_INDO5V, round(abs(sp_INDO5V['selisih']), 4),\"/\",sp_INDO5V['persentase'] , \"%\"\n",
        "      \")\\nUpdate Covid Harian: \", round(covid_b), \" => \" , round(covid_a), \"(\",var_covid ,sp_covid['persentase'] , \"%\", \")\")\n"
      ]
    },
    {
      "cell_type": "markdown",
      "source": [
        "## Daily Market News tambahan"
      ],
      "metadata": {
        "id": "AnZfDqIZHKyV"
      }
    },
    {
      "cell_type": "code",
      "execution_count": null,
      "metadata": {
        "id": "9Wz0GEDQPn68"
      },
      "outputs": [],
      "source": [
        "#date\n",
        "from datetime import datetime\n",
        "\n",
        "now = datetime.now()\n",
        "today = now.strftime(\"%B %d, %Y\")\n",
        "\n",
        "def melemahmenurun(value_b, value_a):\n",
        "  if(value_b > value_a):\n",
        "    value = \"Menguat\"\n",
        "  elif(value_b == value_a):\n",
        "    value = \"Tetap\"\n",
        "  else:\n",
        "    value = \"Melemah\"\n",
        "  return value\n",
        "\n",
        "def naikturun(value_a, value_b):\n",
        "  if(value_b > value_a):\n",
        "    value = \"Turun\"\n",
        "  elif(value_b == value_a):\n",
        "    value = \"Tetap\"\n",
        "  else:\n",
        "    value = \"Naik\"\n",
        "  return value\n",
        "\n",
        "def selisih_persentase(value_a, value_b):\n",
        "  selisih = value_a - value_b\n",
        "  persentase = abs(round((((selisih) / value_b)*100),2))\n",
        "  return {\"selisih\": selisih, \"persentase\": persentase}\n",
        "  \n",
        "#USD IDR\n",
        "USDIDR_b = int(input(\"USD IDR pada 2 hari sebelumnya?   \"))\n",
        "USDIDR_a = int(input(\"USD IDR pada 1 hari sebelumnya?   \"))\n",
        "\n",
        "sp_USDIDR = selisih_persentase(USDIDR_a, USDIDR_b)\n",
        "var_USDIDR = melemahmenurun(USDIDR_b, USDIDR_a)\n",
        "\n",
        "#SBN\n",
        "GIDN10Y_b = float(input(\"GIDN10YR pada 2 hari sebelumnya?   \"))\n",
        "GIDN10Y_a = float(input(\"GIDN10YR pada 1 hari sebelumnya?   \"))\n",
        "\n",
        "sp_GIDN10Y = selisih_persentase(GIDN10Y_a, GIDN10Y_b)\n",
        "var_GIDN10Y = naikturun(GIDN10Y_a, GIDN10Y_b)\n",
        "\n",
        "GIDN5Y_b = float(input(\"GIDN5YR pada 2 hari sebelumnya?   \"))\n",
        "GIDN5Y_a = float(input(\"GIDN5YR pada 1 hari sebelumnya?   \"))\n",
        "\n",
        "sp_GIDN5Y = selisih_persentase(GIDN5Y_a, GIDN5Y_b)\n",
        "var_GIDN5Y = naikturun(GIDN5Y_a, GIDN5Y_b)\n",
        "\n",
        "#UST\n",
        "USGG10Y_b = float(input(\"USGG10Y pada 2 hari sebelumnya?   \"))\n",
        "USGG10Y_a = float(input(\"USGG10Y pada 1 hari sebelumnya?   \"))\n",
        "\n",
        "sp_USGG10Y = selisih_persentase(USGG10Y_a, USGG10Y_b)\n",
        "var_USGG10Y = naikturun(USGG10Y_a, USGG10Y_b)\n",
        "\n",
        "USGG5Y_b = float(input(\"USGG5Y pada 2 hari sebelumnya?   \"))\n",
        "USGG5Y_a = float(input(\"USGG5Y pada 1 hari sebelumnya?   \"))\n",
        "\n",
        "sp_USGG5Y = selisih_persentase(USGG5Y_a, USGG5Y_b)\n",
        "var_USGG5Y = naikturun(USGG5Y_a, USGG5Y_b)\n",
        "\n",
        "#CDS45\n",
        "CDS_indo_b = float(input(\"CDS indo 5Y pada 2 hari sebelumnya?   \"))\n",
        "CDS_indo_a = float(input(\"CDS indo 5Y pada 1 hari sebelumnya?   \"))\n",
        "\n",
        "sp_CDS_indo = selisih_persentase(CDS_indo_a, CDS_indo_b)\n",
        "var_CDS_indo = naikturun(CDS_indo_a, CDS_indo_b)\n",
        "\n",
        "#Covid Cases4\n",
        "covid_b = float(input(\"kasus covid pada 2 hari sebelumnya?   \"))\n",
        "covid_a = float(input(\"kasus covid pada 1 hari sebelumnya?   \"))\n",
        "\n",
        "sp_covid = selisih_persentase(covid_a, covid_b)\n",
        "var_covid = naikturun(covid_a, covid_b)\n",
        "\n",
        "print(\"\\nDaily Market News –\", today, \"\\nUSD IDR: \", USDIDR_b , \" => \" , USDIDR_a , \"(\",var_USDIDR, sp_USDIDR['persentase'] , \"%\",\n",
        "      \")\\nSBN 10 Yr: \", GIDN10Y_b , \" => \" , GIDN10Y_a , \"(\",var_GIDN10Y, sp_GIDN10Y['persentase'] , \"%\",\n",
        "      \")\\nSBN 5 Yr: \", GIDN5Y_b , \" => \" , GIDN5Y_a , \"(\",var_GIDN5Y, sp_GIDN5Y['persentase'] , \"%\",\n",
        "      \")\\nUST 10 Yr: \", USGG10Y_b , \" => \" , USGG10Y_a , \"(\",var_USGG10Y,\"/\", sp_USGG10Y['persentase'] , \"%\",\n",
        "      \")\\nUST 10 Yr: \", USGG5Y_b , \" => \" , USGG5Y_a , \"(\",var_USGG5Y,\"/\", sp_USGG5Y['persentase'] , \"%\",\n",
        "      \")\\nCDS Indo 5 Yr: \", CDS_indo_b , \" => \" , CDS_indo_a , \"(\",var_CDS_indo, round(abs(sp_CDS_indo['selisih']), 4),\"/\",sp_CDS_indo['persentase'] , \"%\"\n",
        "      \")\\nUpdate Covid Harian: \", round(covid_b), \" => \" , round(covid_a), \"(\",var_covid ,sp_covid['persentase'] , \"%\", \")\")\n"
      ]
    },
    {
      "cell_type": "markdown",
      "source": [
        "## DAILY MARKET NEWS PER BPS"
      ],
      "metadata": {
        "id": "mVrxpdgMdaHj"
      }
    },
    {
      "cell_type": "code",
      "source": [
        "#date\n",
        "from datetime import datetime\n",
        "\n",
        "now = datetime.now()\n",
        "today = now.strftime(\"%B %d, %Y\")\n",
        "\n",
        "def melemahmenguat(value_b, value_a):\n",
        "  if(value_b > value_a):\n",
        "    value = \"Menguat\"\n",
        "  elif(value_b == value_a):\n",
        "    value = \"Tetap\"\n",
        "  else:\n",
        "    value = \"Melemah\"\n",
        "  return value\n",
        "\n",
        "def naikturun(value_a, value_b):\n",
        "  if(value_b > value_a):\n",
        "    value = \"Turun\"\n",
        "  elif(value_b == value_a):\n",
        "    value = \"Tetap\"\n",
        "  else:\n",
        "    value = \"Naik\"\n",
        "  return value\n",
        "\n",
        "def selisih_persentase(value_a, value_b):\n",
        "  selisih = value_a - value_b\n",
        "  selisih_bps = abs(round((value_a - value_b)*100))\n",
        "  persentase = abs(round((((selisih) / value_b)*100),2))\n",
        "  return {\"selisih\": selisih, \"selisih_bps\": selisih_bps, \"persentase\": persentase}\n",
        "\n",
        "\n",
        "#USD IDR\n",
        "USDIDR_b = float(input(\"USD IDR pada 2 hari sebelumnya?   \"))\n",
        "USDIDR_a = float(input(\"USD IDR pada 1 hari sebelumnya?   \"))\n",
        "\n",
        "USDIDR_b = round(USDIDR_b)\n",
        "\n",
        "\n",
        "sp_USDIDR = selisih_persentase(USDIDR_a, USDIDR_b)\n",
        "var_USDIDR = melemahmenurun(USDIDR_b, USDIDR_a)\n",
        "\n",
        "#SBN\n",
        "GIDN10Y_b = float(input(\"GIDN10YR pada 2 hari sebelumnya?   \"))\n",
        "GIDN10Y_a = float(input(\"GIDN10YR pada 1 hari sebelumnya?   \"))\n",
        "\n",
        "sp_GIDN10Y = selisih_persentase(GIDN10Y_a, GIDN10Y_b)\n",
        "var_GIDN10Y = naikturun(GIDN10Y_a, GIDN10Y_b)\n",
        "\n",
        "GIDN5Y_b = float(input(\"GIDN5YR pada 2 hari sebelumnya?   \"))\n",
        "GIDN5Y_a = float(input(\"GIDN5YR pada 1 hari sebelumnya?   \"))\n",
        "\n",
        "sp_GIDN5Y = selisih_persentase(GIDN5Y_a, GIDN5Y_b)\n",
        "var_GIDN5Y = naikturun(GIDN5Y_a, GIDN5Y_b)\n",
        "\n",
        "#UST\n",
        "USGG10Y_b = float(input(\"USGG10Y pada 2 hari sebelumnya?   \"))\n",
        "USGG10Y_a = float(input(\"USGG10Y pada 1 hari sebelumnya?   \"))\n",
        "\n",
        "sp_USGG10Y = selisih_persentase(USGG10Y_a, USGG10Y_b)\n",
        "var_USGG10Y = naikturun(USGG10Y_a, USGG10Y_b)\n",
        "\n",
        "USGG5Y_b = float(input(\"USGG5Y pada 2 hari sebelumnya?   \"))\n",
        "USGG5Y_a = float(input(\"USGG5Y pada 1 hari sebelumnya?   \"))\n",
        "\n",
        "sp_USGG5Y = selisih_persentase(USGG5Y_a, USGG5Y_b)\n",
        "var_USGG5Y = naikturun(USGG5Y_a, USGG5Y_b)\n",
        "\n",
        "#CDS45\n",
        "CDS_indo_b = float(input(\"CDS indo 5Y pada 2 hari sebelumnya?   \"))\n",
        "CDS_indo_a = float(input(\"CDS indo 5Y pada 1 hari sebelumnya?   \"))\n",
        "\n",
        "sp_CDS_indo = selisih_persentase(CDS_indo_a, CDS_indo_b)\n",
        "var_CDS_indo = naikturun(CDS_indo_a, CDS_indo_b)\n",
        "\n",
        "#Covid Cases4\n",
        "covid_b = float(input(\"kasus covid pada 2 hari sebelumnya?   \"))\n",
        "covid_a = float(input(\"kasus covid pada 1 hari sebelumnya?   \"))\n",
        "\n",
        "sp_covid = selisih_persentase(covid_a, covid_b)\n",
        "var_covid = naikturun(covid_a, covid_b)\n",
        "\n",
        "print(\"\\nDaily Market News –\", today, \"\\nUSD IDR: \", USDIDR_b , \" => \" , USDIDR_a , \"(\",var_USDIDR, sp_USDIDR['persentase'] , \"%\",\n",
        "      \")\\nSBN 10 Yr: \", GIDN10Y_b , \" => \" , GIDN10Y_a , \"(\",var_GIDN10Y, sp_GIDN10Y['selisih_bps'] , \"Bps\",\n",
        "      \")\\nSBN 5 Yr: \", GIDN5Y_b , \" => \" , GIDN5Y_a , \"(\",var_GIDN5Y, sp_GIDN5Y['selisih_bps'] , \"Bps\",\n",
        "      \")\\nUST 10 Yr: \", USGG10Y_b , \" => \" , USGG10Y_a , \"(\",var_USGG10Y,\"/\", sp_USGG10Y['selisih_bps'] , \"Bps\",\n",
        "      \")\\nUST 5 Yr: \", USGG5Y_b , \" => \" , USGG5Y_a , \"(\",var_USGG5Y,\"/\", sp_USGG5Y['selisih_bps'] , \"Bps\",\n",
        "      \")\\nCDS Indo 5 Yr: \", CDS_indo_b , \" => \" , CDS_indo_a , \"(\",var_CDS_indo, round(abs(sp_CDS_indo['selisih']), 4),\"/\",sp_CDS_indo['persentase'] , \"%\"\n",
        "      \")\\nUpdate Covid Harian: \", round(covid_b), \" => \" , round(covid_a), \"(\",var_covid ,sp_covid['persentase'] , \"%\", \")\")\n"
      ],
      "metadata": {
        "colab": {
          "base_uri": "https://localhost:8080/"
        },
        "id": "hzSiO_gY-12n",
        "outputId": "67e72ff3-5796-47b6-fe88-2b0b66f60720"
      },
      "execution_count": null,
      "outputs": [
        {
          "output_type": "stream",
          "name": "stdout",
          "text": [
            "USD IDR pada 2 hari sebelumnya?   14743\n",
            "USD IDR pada 1 hari sebelumnya?   14768\n",
            "GIDN10YR pada 2 hari sebelumnya?   7.076\n",
            "GIDN10YR pada 1 hari sebelumnya?   7.029\n",
            "GIDN5YR pada 2 hari sebelumnya?   6.381\n",
            "GIDN5YR pada 1 hari sebelumnya?   6.427\n",
            "USGG10Y pada 2 hari sebelumnya?   2.7878\n",
            "USGG10Y pada 1 hari sebelumnya?   2.8041\n",
            "USGG5Y pada 2 hari sebelumnya?   2.8997\n",
            "USGG5Y pada 1 hari sebelumnya?   2.9529\n",
            "CDS indo 5Y pada 2 hari sebelumnya?   97.587\n",
            "CDS indo 5Y pada 1 hari sebelumnya?   99.415\n",
            "kasus covid pada 2 hari sebelumnya?   5869\n",
            "kasus covid pada 1 hari sebelumnya?   5253\n",
            "\n",
            "Daily Market News – August 18, 2022 \n",
            "USD IDR:  14743  =>  14768.0 ( Melemah 0.17 % )\n",
            "SBN 10 Yr:  7.076  =>  7.029 ( Turun 5 Bps )\n",
            "SBN 5 Yr:  6.381  =>  6.427 ( Naik 5 Bps )\n",
            "UST 10 Yr:  2.7878  =>  2.8041 ( Naik / 2 Bps )\n",
            "UST 5 Yr:  2.8997  =>  2.9529 ( Naik / 5 Bps )\n",
            "CDS Indo 5 Yr:  97.587  =>  99.415 ( Naik 1.828 / 1.87 %)\n",
            "Update Covid Harian:  5869  =>  5253 ( Turun 10.5 % )\n"
          ]
        }
      ]
    },
    {
      "cell_type": "markdown",
      "source": [
        "## Weekly Market News"
      ],
      "metadata": {
        "id": "G-oGRT3hHQ24"
      }
    },
    {
      "cell_type": "code",
      "source": [
        "#date\n",
        "from datetime import timedelta, date\n",
        "kamis_minggu_sebelumnya = date.today() - timedelta(days=8)\n",
        "kamis_minggu_sebelumnya = kamis_minggu_sebelumnya.strftime(\"%B %d\")\n",
        "\n",
        "kamis_sebelumnya = date.today() - timedelta(days=1)\n",
        "kamis_sebelumnya = kamis_sebelumnya.strftime(\"%B %d\")\n",
        "\n",
        "print(\"cari tanggal\",kamis_minggu_sebelumnya,\"-\", kamis_sebelumnya)\n",
        "\n",
        "def melemahmenurun(value_b, value_a):\n",
        "  if(value_b > value_a):\n",
        "    value = \"Menguat\"\n",
        "  elif(value_b == value_a):\n",
        "    value = \"Tetap\"\n",
        "  else:\n",
        "    value = \"Melemah\"\n",
        "  return value\n",
        "\n",
        "def naikturun(value_a, value_b):\n",
        "  if(value_b > value_a):\n",
        "    value = \"Turun\"\n",
        "  elif(value_b == value_a):\n",
        "    value = \"Tetap\"\n",
        "  else:\n",
        "    value = \"Naik\"\n",
        "  return value\n",
        "\n",
        "def selisih_persentase(value_a, value_b):\n",
        "  selisih = value_a - value_b\n",
        "  persentase = abs(round((((selisih) / value_b)*100),2))\n",
        "  return {\"selisih\": selisih, \"persentase\": persentase}\n",
        "  \n",
        "#USD IDR\n",
        "USDIDR_b = int(input(\"USD IDR pada kamis minggu sebelumnya?   \"))\n",
        "USDIDR_a = int(input(\"USD IDR pada kamis sebelumnya?   \"))\n",
        "\n",
        "sp_USDIDR = selisih_persentase(USDIDR_a, USDIDR_b)\n",
        "var_USDIDR = melemahmenurun(USDIDR_b, USDIDR_a)\n",
        "\n",
        "#SBN\n",
        "GIDN10Y_b = float(input(\"GIDN10YR pada kamis minggu sebelumnya?   \"))\n",
        "GIDN10Y_a = float(input(\"GIDN10YR pada kamis sebelumnya?   \"))\n",
        "\n",
        "sp_GIDN10Y = selisih_persentase(GIDN10Y_a, GIDN10Y_b)\n",
        "var_GIDN10Y = naikturun(GIDN10Y_a, GIDN10Y_b)\n",
        "\n",
        "GIDN5Y_b = float(input(\"GIDN10YR pada kamis minggu sebelumnya?   \"))\n",
        "GIDN5Y_a = float(input(\"GIDN10YR pada kamis sebelumnya?   \"))\n",
        "\n",
        "sp_GIDN5Y = selisih_persentase(GIDN5Y_a, GIDN5Y_b)\n",
        "var_GIDN5Y = naikturun(GIDN5Y_a, GIDN5Y_b)\n",
        "\n",
        "#UST\n",
        "USGG10Y_b = float(input(\"USGG10Y pada kamis minggu sebelumnya?   \"))\n",
        "USGG10Y_a = float(input(\"USGG10Y pada kamis sebelumnya?   \"))\n",
        "\n",
        "sp_USGG10Y = selisih_persentase(USGG10Y_a, USGG10Y_b)\n",
        "var_USGG10Y = naikturun(USGG10Y_a, USGG10Y_b)\n",
        "\n",
        "USGG5Y_b = float(input(\"USGG5Y pada kamis minggu sebelumnya?   \"))\n",
        "USGG5Y_a = float(input(\"USGG5Y pada kamis sebelumnya?   \"))\n",
        "\n",
        "sp_USGG5Y = selisih_persentase(USGG5Y_a, USGG5Y_b)\n",
        "var_USGG5Y = naikturun(USGG5Y_a, USGG5Y_b)\n",
        "\n",
        "#CDS45\n",
        "CDS_indo_b = float(input(\"CDS indo 5Y pada kamis minggu sebelumnya?   \"))\n",
        "CDS_indo_a = float(input(\"CDS indo 5Y pada kamis sebelumnya?   \"))\n",
        "\n",
        "sp_CDS_indo = selisih_persentase(CDS_indo_a, CDS_indo_b)\n",
        "var_CDS_indo = naikturun(CDS_indo_a, CDS_indo_b)\n",
        "\n",
        "#Covid Cases4\n",
        "covid_b = float(input(\"kasus covid pada kamis minggu sebelumnya?   \"))\n",
        "covid_a = float(input(\"kasus covid pada kamis sebelumnya?   \"))\n",
        "\n",
        "sp_covid = selisih_persentase(covid_a, covid_b)\n",
        "var_covid = naikturun(covid_a, covid_b)\n",
        "\n",
        "print(\"\\nWeekly Market News |\", kamis_minggu_sebelumnya, \"-\", kamis_sebelumnya, \"\\nUSD IDR: \", USDIDR_b , \" => \" , USDIDR_a , \"(\",var_USDIDR, sp_USDIDR['persentase'] , \"%\",\n",
        "      \")\\nSBN 10 Yr: \", GIDN10Y_b , \" => \" , GIDN10Y_a , \"(\",var_GIDN10Y, sp_GIDN10Y['persentase'] , \"%\",\n",
        "      \")\\nSBN 5 Yr: \", GIDN5Y_b , \" => \" , GIDN5Y_a , \"(\",var_GIDN5Y, sp_GIDN5Y['persentase'] , \"%\",\n",
        "      \")\\nUST 10 Yr: \", USGG10Y_b , \" => \" , USGG10Y_a , \"(\",var_USGG10Y,\"/\", sp_USGG10Y['persentase'] , \"%\",\n",
        "      \")\\nUST 10 Yr: \", USGG5Y_b , \" => \" , USGG5Y_a , \"(\",var_USGG5Y,\"/\", sp_USGG5Y['persentase'] , \"%\",\n",
        "      \")\\nCDS Indo 5 Yr: \", CDS_indo_b , \" => \" , CDS_indo_a , \"(\",var_CDS_indo, round(abs(sp_CDS_indo['selisih']), 4),\"/\",sp_CDS_indo['persentase'] , \"%\"\n",
        "      \")\\nUpdate Covid Harian: \", round(covid_b), \" => \" , round(covid_a), \"(\",var_covid ,sp_covid['persentase'] , \"%\", \")\")\n"
      ],
      "metadata": {
        "colab": {
          "base_uri": "https://localhost:8080/"
        },
        "id": "PYkkpkQjHRtT",
        "outputId": "5508b765-e175-4aa3-9761-cd5debccb60c"
      },
      "execution_count": null,
      "outputs": [
        {
          "output_type": "stream",
          "name": "stdout",
          "text": [
            "cari tanggal August 04 - August 11\n",
            "USD IDR pada kamis minggu sebelumnya?   14933\n",
            "USD IDR pada kamis sebelumnya?   14872\n",
            "GIDN10YR pada kamis minggu sebelumnya?   7212\n",
            "GIDN10YR pada kamis sebelumnya?   6960\n",
            "GIDN10YR pada kamis minggu sebelumnya?   6.482\n",
            "GIDN10YR pada kamis sebelumnya?   6.308\n",
            "USGG10Y pada kamis minggu sebelumnya?   2.6883\n",
            "USGG10Y pada kamis sebelumnya?   2.8876\n",
            "USGG5Y pada kamis minggu sebelumnya?   2.7922\n",
            "USGG5Y pada kamis sebelumnya?   2.9867\n",
            "CDS indo 5Y pada kamis minggu sebelumnya?   101.418\n",
            "CDS indo 5Y pada kamis sebelumnya?   105.472\n",
            "kasus covid pada kamis minggu sebelumnya?   5926\n",
            "kasus covid pada kamis sebelumnya?   5532\n",
            "\n",
            "Weekly Market News | August 04 - August 11 \n",
            "USD IDR:  14933  =>  14872 ( Menguat 0.41 % )\n",
            "SBN 10 Yr:  7212.0  =>  6960.0 ( Turun 3.49 % )\n",
            "SBN 5 Yr:  6.482  =>  6.308 ( Turun 2.68 % )\n",
            "UST 10 Yr:  2.6883  =>  2.8876 ( Naik / 7.41 % )\n",
            "UST 10 Yr:  2.7922  =>  2.9867 ( Naik / 6.97 % )\n",
            "CDS Indo 5 Yr:  101.418  =>  105.472 ( Naik 4.054 / 4.0 %)\n",
            "Update Covid Harian:  5926  =>  5532 ( Turun 6.65 % )\n"
          ]
        }
      ]
    },
    {
      "cell_type": "code",
      "source": [
        ""
      ],
      "metadata": {
        "id": "qgcZji6PIdxU"
      },
      "execution_count": null,
      "outputs": []
    },
    {
      "cell_type": "markdown",
      "source": [
        "## Grafik Weekly"
      ],
      "metadata": {
        "id": "UPdpqTztNysN"
      }
    },
    {
      "cell_type": "markdown",
      "source": [
        "### KURS"
      ],
      "metadata": {
        "id": "rhxXYlnxj1cz"
      }
    },
    {
      "cell_type": "code",
      "execution_count": null,
      "metadata": {
        "id": "RFpEe9dNSKLR",
        "colab": {
          "base_uri": "https://localhost:8080/",
          "height": 265
        },
        "outputId": "68feea61-a044-4785-8ec4-4cfb87e1ddb4"
      },
      "outputs": [
        {
          "output_type": "display_data",
          "data": {
            "text/plain": [
              "<Figure size 432x288 with 1 Axes>"
            ],
            "image/png": "[encoded data removed]"
          },
          "metadata": {
            "needs_background": "light"
          }
        }
      ],
      "source": [
        "import pandas as pd\n",
        "import matplotlib.pyplot as plt\n",
        "\n",
        "date_time = [\"06/27/2022\", \"06/28/2022\", \"06/29/2022\", \"06/30/2022\", \"07/01/2022\"]\n",
        "date_time = pd.to_datetime(date_time)\n",
        "data = [14848, 14803, 14837, 14850, 14898]\n",
        "\n",
        "DF = pd.DataFrame()\n",
        "DF['value'] = data\n",
        "DF = DF.set_index(date_time)\n",
        "plt.plot(DF)\n",
        "plt.gcf().autofmt_xdate()\n",
        "plt.show()"
      ]
    },
    {
      "cell_type": "markdown",
      "source": [
        "### SBN"
      ],
      "metadata": {
        "id": "QLvL1nAjj7AF"
      }
    },
    {
      "cell_type": "code",
      "source": [
        "import pandas as pd\n",
        "import matplotlib.pyplot as plt\n",
        "\n",
        "date_time = [\"2022-06-13\", \"2022-06-14\", \"2022-06-15\", \"2022-06-16\", \"2022-06-17\"]\n",
        "date_time = pd.to_datetime(date_time)\n",
        "data = [7.205, 7.362, 7.426, 7.434, 7.393]\n",
        "\n",
        "DF = pd.DataFrame()\n",
        "DF['value'] = data\n",
        "DF = DF.set_index(date_time)\n",
        "plt.plot(DF)\n",
        "plt.gcf().autofmt_xdate()\n",
        "plt.show()"
      ],
      "metadata": {
        "colab": {
          "base_uri": "https://localhost:8080/",
          "height": 265
        },
        "id": "Y14WaKZnO6vg",
        "outputId": "e7773331-0ce0-4093-f66a-e4aeea019c35"
      },
      "execution_count": null,
      "outputs": [
        {
          "output_type": "display_data",
          "data": {
            "text/plain": [
              "<Figure size 432x288 with 1 Axes>"
            ],
            "image/png": "[encoded data removed]"
          },
          "metadata": {
            "needs_background": "light"
          }
        }
      ]
    },
    {
      "cell_type": "markdown",
      "source": [
        "### UST"
      ],
      "metadata": {
        "id": "uYDyo2nkkU7C"
      }
    },
    {
      "cell_type": "code",
      "source": [
        "import pandas as pd\n",
        "import matplotlib.pyplot as plt\n",
        "\n",
        "date_time = [\"2022-06-13\", \"2022-06-14\", \"2022-06-15\", \"2022-06-16\", \"2022-06-17\"]\n",
        "date_time = pd.to_datetime(date_time)\n",
        "data = [3.1555, 3.3598, 3.4733, 3.2839, 3.1952]\n",
        "\n",
        "DF = pd.DataFrame()\n",
        "DF['value'] = data\n",
        "DF = DF.set_index(date_time)\n",
        "plt.plot(DF)\n",
        "plt.gcf().autofmt_xdate()\n",
        "plt.show()"
      ],
      "metadata": {
        "colab": {
          "base_uri": "https://localhost:8080/"
        },
        "id": "ZoDccR-Sj6ds",
        "outputId": "d114bb6e-32c7-4cb8-ab4e-4ee35263b21e"
      },
      "execution_count": null,
      "outputs": [
        {
          "output_type": "display_data",
          "data": {
            "text/plain": [
              "<Figure size 432x288 with 1 Axes>"
            ],
            "image/png": "[encoded data removed]"
          },
          "metadata": {
            "needs_background": "light"
          }
        }
      ]
    },
    {
      "cell_type": "code",
      "source": [
        ""
      ],
      "metadata": {
        "id": "lZFBZgWQHbmN"
      },
      "execution_count": null,
      "outputs": []
    }
  ],
  "metadata": {
    "colab": {
      "collapsed_sections": [
        "blljkDi0RoxF",
        "zpC034pBFk7X",
        "tx0VkV5kFtAH",
        "AnZfDqIZHKyV",
        "rhxXYlnxj1cz",
        "QLvL1nAjj7AF",
        "uYDyo2nkkU7C"
      ],
      "name": "Daily Market News.ipynb",
      "provenance": [],
      "include_colab_link": true
    },
    "kernelspec": {
      "display_name": "Python 3",
      "name": "python3"
    },
    "language_info": {
      "name": "python"
    }
  },
  "nbformat": 4,
  "nbformat_minor": 0
}